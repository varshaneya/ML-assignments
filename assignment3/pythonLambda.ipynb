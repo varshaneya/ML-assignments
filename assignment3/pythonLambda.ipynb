{
 "cells": [
  {
   "cell_type": "markdown",
   "metadata": {},
   "source": [
    "<center> \n",
    "<h2>Python lambda </h2>\n",
    "</center>\n",
    "<div style \"text-align:justify\">\n",
    "In Python, anonymous function is a function that is defined without a name. While normal functions are defined using the def keyword, in Python anonymous functions are defined using the lambda keyword. Lambda functions can have any number of arguments but only one expression. The expression is evaluated and returned. Lambda functions can be used wherever function objects are required. The syntax of lambda function is:\n",
    "<br>\n",
    "<center> lambda arguments: expression </center>\n",
    "<br>\n",
    "<div style \"text-align:justify\"> Run the example below to see how it works:"
   ]
  },
  {
   "cell_type": "code",
   "execution_count": 2,
   "metadata": {},
   "outputs": [
    {
     "name": "stdout",
     "output_type": "stream",
     "text": [
      "<type 'function'>\n",
      "25\n"
     ]
    }
   ],
   "source": [
    "square = lambda x : x ** 2 #here square is a function handle that calculates square of number passed to it\n",
    "print(type(square))\n",
    "print(square(5)) # prints 25"
   ]
  },
  {
   "cell_type": "markdown",
   "metadata": {},
   "source": [
    "<div style = 'text-align-justify'>\n",
    "We use lambda functions when we require a nameless function for a short period of time. These functions are throw-away functions, i.e. they are just needed where they have been created. The lambda feature was added to Python due to the demand from Lisp programmers. In Python, we generally use it as an argument to a higher-order function (a function that takes in other functions as arguments). Lambda functions are used along with built-in functions like filter, map and reduce."
   ]
  },
  {
   "cell_type": "markdown",
   "metadata": {},
   "source": [
    "<center> <h3> Usage with <i>filter()</i></h3></center>\n",
    "Let us say we have a list ‘array’ with numbers, to filter out the negative numbers we use lambda and filter function:"
   ]
  },
  {
   "cell_type": "code",
   "execution_count": 4,
   "metadata": {},
   "outputs": [
    {
     "name": "stdout",
     "output_type": "stream",
     "text": [
      "[0, 1, 2, 3, 4, 5, 6, 7, 8, 9, 10, 11, 12, 13, 14, 15, 16, 17, 18, 19, 20]\n"
     ]
    }
   ],
   "source": [
    "array = range(-20,21)\n",
    "print(list(filter(lambda x: (x >= 0),array ))) #must type cast to list in python 3.x"
   ]
  },
  {
   "cell_type": "markdown",
   "metadata": {},
   "source": [
    "<center><h3> Usage with <i>map()</i></h3></center>\n",
    "For example let us say we have a list ‘array’ with numbers, to find their squares we use lambda and map function:"
   ]
  },
  {
   "cell_type": "code",
   "execution_count": 6,
   "metadata": {},
   "outputs": [
    {
     "name": "stdout",
     "output_type": "stream",
     "text": [
      "[100, 81, 64, 49, 36, 25, 16, 9, 4, 1, 0, 1, 4, 9, 16, 25, 36, 49, 64, 81]\n"
     ]
    }
   ],
   "source": [
    "array = range(-10,10)\n",
    "print(list(map(lambda x : (x ** 2),array))) #must type cast to list in python 3.x"
   ]
  },
  {
   "cell_type": "markdown",
   "metadata": {},
   "source": [
    "<center><h3> Usage with <i>reduce()</i></h3></center>\n",
    "For example let us say we have a list ‘array’ with numbers, to find the sum of elements in it using lambda and reduce:"
   ]
  },
  {
   "cell_type": "code",
   "execution_count": 9,
   "metadata": {},
   "outputs": [
    {
     "name": "stdout",
     "output_type": "stream",
     "text": [
      "45\n"
     ]
    }
   ],
   "source": [
    "#import functools.reduce #needs to be imported for python 3.x\n",
    "array = range(10)\n",
    "print(reduce(lambda x,y: (x+y), array))"
   ]
  },
  {
   "cell_type": "markdown",
   "metadata": {},
   "source": [
    "<div style = text-align:justify>\n",
    "Note: In python 3 and above we need to typecast the output of map and filter to a list so that the contents can be displayed by the print function, whereas this typecasting is not required in python 2.7. In python 3 and above reduce method is found in ‘functools’ package i.e. Import functools and then use reduce method as functools.reduce. But it is available directly in python 2.7."
   ]
  }
 ],
 "metadata": {
  "kernelspec": {
   "display_name": "Python 2",
   "language": "python",
   "name": "python2"
  },
  "language_info": {
   "codemirror_mode": {
    "name": "ipython",
    "version": 2
   },
   "file_extension": ".py",
   "mimetype": "text/x-python",
   "name": "python",
   "nbconvert_exporter": "python",
   "pygments_lexer": "ipython2",
   "version": "2.7.14"
  }
 },
 "nbformat": 4,
 "nbformat_minor": 2
}
